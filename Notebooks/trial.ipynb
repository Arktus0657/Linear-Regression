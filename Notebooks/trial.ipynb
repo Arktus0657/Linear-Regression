{
 "cells": [
  {
   "cell_type": "code",
   "execution_count": 2,
   "id": "14654280",
   "metadata": {},
   "outputs": [],
   "source": [
    "import numpy as np"
   ]
  },
  {
   "cell_type": "code",
   "execution_count": 3,
   "id": "c0c2b3e3",
   "metadata": {},
   "outputs": [
    {
     "data": {
      "text/plain": [
       "(array([ 3.,  9., 11.,  5.,  2.]), array([ 1.,  8., 11.,  4.,  3.]))"
      ]
     },
     "execution_count": 3,
     "metadata": {},
     "output_type": "execute_result"
    }
   ],
   "source": [
    "original_x = np.array([3, 9, 11, 5, 2]).astype(float);\n",
    "original_y = np.array([1, 8, 11, 4, 3]).astype(float);\n",
    "original_x, original_y"
   ]
  },
  {
   "cell_type": "code",
   "execution_count": 4,
   "id": "38f9bb23",
   "metadata": {},
   "outputs": [
    {
     "data": {
      "text/plain": [
       "(array([ 3.,  9., 11.,  5.,  2.]), array([ 1.,  8., 11.,  4.,  3.]))"
      ]
     },
     "execution_count": 4,
     "metadata": {},
     "output_type": "execute_result"
    }
   ],
   "source": [
    "x = original_x.copy()\n",
    "y = original_y.copy()\n",
    "x, y"
   ]
  },
  {
   "cell_type": "code",
   "execution_count": 6,
   "id": "a26139cf",
   "metadata": {},
   "outputs": [
    {
     "data": {
      "text/plain": [
       "5"
      ]
     },
     "execution_count": 6,
     "metadata": {},
     "output_type": "execute_result"
    }
   ],
   "source": [
    "n = len(x)\n",
    "n"
   ]
  },
  {
   "cell_type": "code",
   "execution_count": 8,
   "id": "98900f10",
   "metadata": {},
   "outputs": [
    {
     "data": {
      "text/plain": [
       "(30.0, 27.0)"
      ]
     },
     "execution_count": 8,
     "metadata": {},
     "output_type": "execute_result"
    }
   ],
   "source": [
    "sum_y = np.sum(y)\n",
    "sum_x = np.sum(x)\n",
    "sum_x, sum_y"
   ]
  },
  {
   "cell_type": "code",
   "execution_count": 9,
   "id": "ab65f451",
   "metadata": {},
   "outputs": [
    {
     "data": {
      "text/plain": [
       "(6.0, 5.4)"
      ]
     },
     "execution_count": 9,
     "metadata": {},
     "output_type": "execute_result"
    }
   ],
   "source": [
    "mean_y = sum_y / n\n",
    "mean_x = sum_x / n\n",
    "mean_x, mean_y"
   ]
  },
  {
   "cell_type": "code",
   "execution_count": 10,
   "id": "5eba47d3",
   "metadata": {},
   "outputs": [
    {
     "data": {
      "text/plain": [
       "(array([-3.,  3.,  5., -1., -4.]), array([-4.4,  2.6,  5.6, -1.4, -2.4]))"
      ]
     },
     "execution_count": 10,
     "metadata": {},
     "output_type": "execute_result"
    }
   ],
   "source": [
    "for i in range(n):\n",
    "    x[i] = x[i] - mean_x\n",
    "    y[i] = y[i] - mean_y\n",
    "x, y"
   ]
  },
  {
   "cell_type": "code",
   "execution_count": 11,
   "id": "7a4830bc",
   "metadata": {},
   "outputs": [
    {
     "data": {
      "text/plain": [
       "(60.0, 60.0)"
      ]
     },
     "execution_count": 11,
     "metadata": {},
     "output_type": "execute_result"
    }
   ],
   "source": [
    "sumOfProductOfDeviationsOf_x_and_y = 0\n",
    "sumOfSquareOfDeviationsOf_x = 0\n",
    "for i in range(n):\n",
    "    sumOfProductOfDeviationsOf_x_and_y += (x[i] * y[i])\n",
    "    sumOfSquareOfDeviationsOf_x += (x[i] * x[i])\n",
    "sumOfProductOfDeviationsOf_x_and_y, sumOfSquareOfDeviationsOf_x    "
   ]
  },
  {
   "cell_type": "code",
   "execution_count": 12,
   "id": "d3462920",
   "metadata": {},
   "outputs": [
    {
     "data": {
      "text/plain": [
       "1.0"
      ]
     },
     "execution_count": 12,
     "metadata": {},
     "output_type": "execute_result"
    }
   ],
   "source": [
    "slope = sumOfProductOfDeviationsOf_x_and_y / sumOfSquareOfDeviationsOf_x\n",
    "slope"
   ]
  },
  {
   "cell_type": "code",
   "execution_count": 13,
   "id": "18693095",
   "metadata": {},
   "outputs": [
    {
     "data": {
      "text/plain": [
       "-0.5999999999999996"
      ]
     },
     "execution_count": 13,
     "metadata": {},
     "output_type": "execute_result"
    }
   ],
   "source": [
    "intercept = mean_y - (slope * mean_x)\n",
    "intercept"
   ]
  },
  {
   "cell_type": "code",
   "execution_count": 15,
   "id": "6443bbe9",
   "metadata": {},
   "outputs": [
    {
     "data": {
      "text/plain": [
       "array([ 2.4,  8.4, 10.4,  4.4,  1.4])"
      ]
     },
     "execution_count": 15,
     "metadata": {},
     "output_type": "execute_result"
    }
   ],
   "source": [
    "y_pred = intercept + (slope * original_x)\n",
    "y_pred"
   ]
  },
  {
   "cell_type": "code",
   "execution_count": 16,
   "id": "4556fb3c",
   "metadata": {},
   "outputs": [
    {
     "data": {
      "text/plain": [
       "(array([ 3.,  9., 11.,  5.,  2.]), array([ 2.4,  8.4, 10.4,  4.4,  1.4]))"
      ]
     },
     "execution_count": 16,
     "metadata": {},
     "output_type": "execute_result"
    }
   ],
   "source": [
    "original_x, y_pred"
   ]
  },
  {
   "cell_type": "code",
   "execution_count": null,
   "id": "569bde13",
   "metadata": {},
   "outputs": [],
   "source": []
  }
 ],
 "metadata": {
  "kernelspec": {
   "display_name": "Python 3",
   "language": "python",
   "name": "python3"
  },
  "language_info": {
   "codemirror_mode": {
    "name": "ipython",
    "version": 3
   },
   "file_extension": ".py",
   "mimetype": "text/x-python",
   "name": "python",
   "nbconvert_exporter": "python",
   "pygments_lexer": "ipython3",
   "version": "3.11.5"
  }
 },
 "nbformat": 4,
 "nbformat_minor": 5
}
